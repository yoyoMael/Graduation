{
 "cells": [
  {
   "cell_type": "code",
   "execution_count": 2,
   "metadata": {},
   "outputs": [
    {
     "name": "stdout",
     "output_type": "stream",
     "text": [
      "   0    59   94   95   84    161  44      179  82   112  58   248\n",
      "0   80    1  319  140  318  40.0    1  3591.2  319    3    1  WWW\n",
      "1   80    1  319  141  318  40.0    1  3645.0  319    3    1  WWW\n",
      "2   80    1  322  141  321  40.0    1  3645.0  322    3    1  WWW\n",
      "3   80    1  319  142  318  40.0    1  3699.2  319    3    1  WWW\n",
      "4   80    1  325  141  324  40.0    1  3645.0  325    3    1  WWW\n"
     ]
    }
   ],
   "source": [
    "#! python3\n",
    "# -*- coding:utf-8 -*-\n",
    "\n",
    "# 60. pushed_data_pkts_b a  (server > client)\n",
    "# 95. initial_window_bytes_a b (client > server)\n",
    "# 96. initial_window_bytes_b a (server > client)\n",
    "# 85 avg_segm_size_b a (server > client)\n",
    "# 162. med_data_ip_a b (client > server)\n",
    "# 45. actual_data_pkts_a b (client > server)\n",
    "# 180. var_data_wire_b a (server > client)\n",
    "# 83. min_segm_size_a b\n",
    "# 113. RTT_samples_a b\n",
    "# 59. pushed_data_pkts_a b\n",
    "\n",
    "import numpy as np\n",
    "import pandas as pd\n",
    "import os\n",
    "import time\n",
    "import warnings\n",
    "from lightgbm import LGBMClassifier\n",
    "from sklearn.model_selection import train_test_split\n",
    "from sklearn.svm import  SVC\n",
    "from sklearn.naive_bayes import GaussianNB\n",
    "from sklearn.neural_network import MLPClassifier\n",
    "from sklearn.preprocessing import StandardScaler, MinMaxScaler\n",
    "from sklearn.neighbors import KNeighborsClassifier\n",
    "from xgboost import XGBClassifier\n",
    "\n",
    "warnings.filterwarnings(module='sklearn*', action='ignore', category=DeprecationWarning)\n",
    "data_dir = '/Users/Yoyo/Desktop/Graduation/ML_test/dataset/Moore'\n",
    "filename = 'fusion_csv'\n",
    "file = os.path.join(data_dir, filename)\n",
    "data_index = np.array([44,179,112,59,82,58,84])\n",
    "full_index = np.array([0, 59, 94, 95, 84, 161, 44, 179, 82, 112, 58, 248])\n",
    "classes = ['WWW', 'MAIL', 'FTP-CONTROL', 'FTP-PASV', 'ATTACK', 'P2P', 'DATABASE', 'FTP-DATA', 'MULTIMEDIA', 'SERVICES',\n",
    "           'INTERACTIVE', 'GAMES']\n",
    "df = pd.read_csv(file, names = full_index)\n",
    "print(df.head())\n",
    "data = df[data_index].values\n",
    "label = df[248].values\n",
    "x_train, x_test, y_train, y_test = train_test_split(data, label, test_size=.3, random_state=42,\n",
    "                                                    stratify=label, shuffle=True)\n",
    "\n",
    "lgb = LGBMClassifier()\n",
    "xgb = XGBClassifier()\n",
    "svm = SVC(gamma=.01, C=10, max_iter=2000, )\n",
    "mlp = MLPClassifier(max_iter=1000)\n",
    "gnb = GaussianNB()\n",
    "knn = KNeighborsClassifier()"
   ]
  },
  {
   "cell_type": "code",
   "execution_count": 69,
   "metadata": {},
   "outputs": [],
   "source": [
    "def metric(pred, label, type):\n",
    "    pr = np.where(pred == type, 1, 0)\n",
    "    la = np.where(label == type, 1, 0)\n",
    "    tp = np.sum((pr + la) == 1)\n",
    "    fp = np.sum((pr - la) == 1)\n",
    "    fn = np.sum((pr - la) == -1)\n",
    "    tn = np.sum((pr + la) == 0)\n",
    "    recall = tp / (tp + fn)\n",
    "    precision = tp / (tp + fp)\n",
    "    fpr = fp / (fp + tn)\n",
    "    fnr = fn / (fn + tp)\n",
    "    f1 = 2*recall*precision/(precision + recall)\n",
    "    return (recall,precision,fpr,f1)\n"
   ]
  },
  {
   "cell_type": "code",
   "execution_count": 67,
   "metadata": {},
   "outputs": [],
   "source": [
    "a = np.random.randint(0,2,10)\n",
    "b = np.random.randint(0,2,10)"
   ]
  },
  {
   "cell_type": "code",
   "execution_count": 68,
   "metadata": {},
   "outputs": [
    {
     "name": "stdout",
     "output_type": "stream",
     "text": [
      "[0 1 1 0 0 0 1 1 0 1]\n",
      "[1 0 1 0 0 0 1 0 0 1]\n",
      "[ True  True False False False False False  True False False]\n",
      "[False  True False False False False False  True False False]\n",
      "[ True False False False False False False False False False]\n",
      "[False False False  True  True  True False False  True False]\n"
     ]
    }
   ],
   "source": [
    "recall(a,b,1)"
   ]
  },
  {
   "cell_type": "code",
   "execution_count": null,
   "metadata": {},
   "outputs": [],
   "source": []
  },
  {
   "cell_type": "code",
   "execution_count": null,
   "metadata": {},
   "outputs": [],
   "source": []
  }
 ],
 "metadata": {
  "kernelspec": {
   "display_name": "Python 3",
   "language": "python",
   "name": "python3"
  },
  "language_info": {
   "codemirror_mode": {
    "name": "ipython",
    "version": 3
   },
   "file_extension": ".py",
   "mimetype": "text/x-python",
   "name": "python",
   "nbconvert_exporter": "python",
   "pygments_lexer": "ipython3",
   "version": "3.6.4"
  }
 },
 "nbformat": 4,
 "nbformat_minor": 2
}
