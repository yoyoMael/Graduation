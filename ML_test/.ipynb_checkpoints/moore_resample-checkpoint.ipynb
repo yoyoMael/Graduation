{
 "cells": [
  {
   "cell_type": "code",
   "execution_count": 2,
   "metadata": {},
   "outputs": [],
   "source": [
    "import numpy as np\n",
    "import pandas as pd\n",
    "import os\n",
    "from imblearn.over_sampling import RandomOverSampler\n",
    "from imblearn.combine import SMOTETomek\n",
    "from imblearn.ensemble import BalanceCascade\n",
    "from sklearn.model_selection import train_test_split\n",
    "from imblearn.under_sampling import RandomUnderSampler\n",
    "from collections import Counter\n",
    "\n",
    "\n",
    "data_dir = '/Users/Yoyo/Desktop/Graduation/ML_test/dataset/Moore'\n",
    "entry = 'fusion_csv'\n",
    "full_index = np.array([0, 59, 94, 95, 84, 161, 44, 179, 82, 112, 58])\n",
    "classes = ['WWW', 'MAIL', 'FTP-CONTROL', 'FTP-PASV', 'ATTACK', 'P2P', 'DATABASE', 'FTP-DATA', 'MULTIMEDIA', 'SERVICES',\n",
    "           'INTERACTIVE', 'GAMES']\n",
    "after_classes = ['WWW', 'MAIL', 'FTP-CONTROL', 'FTP-PASV', 'P2P', 'DATABASE', 'FTP-DATA', 'SERVICES',\n",
    "           'INTERACTIVE']\n",
    "after_file = os.path.join(data_dir, entry)\n",
    "from lightgbm import LGBMClassifier\n",
    "\n",
    "clf = LGBMClassifier()\n",
    "\n",
    "\n",
    "def generate_df(names):\n",
    "    df_list = []\n",
    "    prefix = 'entry'\n",
    "    for suffix in range(11):\n",
    "        filename = prefix + to_str(suffix)\n",
    "        file_dir = os.path.join(data_dir, filename)\n",
    "        if os.path.exists(file_dir):\n",
    "            print(file_dir)\n",
    "            df = pd.read_csv(file_dir, names=names)\n",
    "            df_list.append(df)\n",
    "    data = pd.concat(df_list)\n",
    "    return data\n",
    "\n",
    "def to_str(n):\n",
    "    if n < 10:\n",
    "        num = '0' + str(n) \n",
    "    else:\n",
    "        num = str(n)\n",
    "    return num\n"
   ]
  },
  {
   "cell_type": "code",
   "execution_count": null,
   "metadata": {},
   "outputs": [],
   "source": [
    "names = [x for x in range(249)]\n",
    "df = pd.read_csv(after_file, names = names)\n",
    "\n",
    "df.head()\n",
    "\n",
    "data = df[full_index[:-1]].values\n",
    "label = df[248].values\n",
    "\n",
    "count = Counter(label)\n",
    "\n",
    "count['WWW'] = 100000\n",
    "\n",
    "ros = BalanceCascade(ratio=count)\n",
    "\n",
    "x_ros, y_ros = ros.fit_sample(data, label)\n",
    "\n",
    "len(x_ros)\n",
    "\n",
    "data = np.c_[x_ros, y_ros]\n",
    "\n",
    "df = pd.DataFrame(data)\n",
    "\n",
    "csv_path = os.path.join(data_dir, 'balancecascade_csv')\n",
    "\n",
    "df.to_csv(csv_path, index = False, header = False)\n",
    "\n"
   ]
  },
  {
   "cell_type": "code",
   "execution_count": null,
   "metadata": {},
   "outputs": [],
   "source": []
  }
 ],
 "metadata": {
  "kernelspec": {
   "display_name": "Python 3",
   "language": "python",
   "name": "python3"
  },
  "language_info": {
   "codemirror_mode": {
    "name": "ipython",
    "version": 3
   },
   "file_extension": ".py",
   "mimetype": "text/x-python",
   "name": "python",
   "nbconvert_exporter": "python",
   "pygments_lexer": "ipython3",
   "version": "3.6.4"
  }
 },
 "nbformat": 4,
 "nbformat_minor": 2
}
