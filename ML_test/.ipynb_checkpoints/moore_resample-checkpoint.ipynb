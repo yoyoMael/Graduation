{
 "cells": [
  {
   "cell_type": "code",
   "execution_count": 19,
   "metadata": {},
   "outputs": [],
   "source": [
    "import numpy as np\n",
    "import pandas as pd\n",
    "import os\n",
    "from imblearn.over_sampling import RandomOverSampler\n",
    "from imblearn.combine import SMOTETomek\n",
    "from imblearn.ensemble import BalanceCascade\n",
    "from sklearn.model_selection import train_test_split\n",
    "from imblearn.under_sampling import RandomUnderSampler\n",
    "from collections import Counter\n",
    "\n",
    "\n",
    "\n",
    "\n",
    "data_dir = '/Users/Yoyo/Desktop/Graduation/ML_test/dataset/Moore'\n",
    "filename = 'resample_csv'\n",
    "out_filename = 'rosrus_csv'\n",
    "full_index = np.array([0, 59, 94, 95, 84, 161, 44, 179, 82, 112, 58, 248])\n",
    "classes = ['WWW', 'MAIL', 'FTP-CONTROL', 'FTP-PASV', 'ATTACK', 'P2P', 'DATABASE', 'FTP-DATA', 'MULTIMEDIA', 'SERVICES',\n",
    "           'INTERACTIVE', 'GAMES']\n",
    "names = full_index\n",
    "file = os.path.join(data_dir, filename)\n",
    "outfile = os.path.join(data_dir, out_filename)\n",
    "\n",
    "def resample(file, outfile):\n",
    "    df = pd.read_csv(file, names = full_index)\n",
    "    data = df[full_index[:-1]].values\n",
    "    label = df[248].values\n",
    "    \n",
    "    count = Counter(label)\n",
    "    count['WWW'] = 200000\n",
    "    resampler = RandomUnderSampler(ratio=count)\n",
    "    \n",
    "    x_resample, y_resample = resampler.fit_sample(data, label)\n",
    "    \n",
    "    data = np.c_[x_resample, y_resample]\n",
    "    \n",
    "    df = pd.DataFrame(data)\n",
    "    \n",
    "    df.to_csv(outfile, index = False, header = False)\n",
    "    \n",
    "    \n",
    "    \n",
    "#  Using class Counter to assign the number of each class\n",
    "\n",
    "def generate_df(names):\n",
    "    df_list = []\n",
    "    prefix = 'entry'\n",
    "    for suffix in range(11):\n",
    "        filename = prefix + to_str(suffix)\n",
    "        file_dir = os.path.join(data_dir, filename)\n",
    "        if os.path.exists(file_dir):\n",
    "            print(file_dir)\n",
    "            df = pd.read_csv(file_dir, names=names)\n",
    "            df_list.append(df)\n",
    "    data = pd.concat(df_list)\n",
    "    return data\n",
    "\n",
    "def to_str(n):\n",
    "    if n < 10:\n",
    "        num = '0' + str(n) \n",
    "    else:\n",
    "        num = str(n)\n",
    "    return num\n"
   ]
  },
  {
   "cell_type": "code",
   "execution_count": 14,
   "metadata": {},
   "outputs": [],
   "source": [
    "df = pd.read_csv(file, names = names)"
   ]
  },
  {
   "cell_type": "code",
   "execution_count": 16,
   "metadata": {},
   "outputs": [],
   "source": [
    "data = df[full_index[:-1]].values\n",
    "label = df[248].values"
   ]
  },
  {
   "cell_type": "code",
   "execution_count": 20,
   "metadata": {},
   "outputs": [],
   "source": [
    "resample(file, outfile)"
   ]
  },
  {
   "cell_type": "code",
   "execution_count": null,
   "metadata": {},
   "outputs": [],
   "source": []
  },
  {
   "cell_type": "code",
   "execution_count": null,
   "metadata": {},
   "outputs": [],
   "source": []
  }
 ],
 "metadata": {
  "kernelspec": {
   "display_name": "Python 3",
   "language": "python",
   "name": "python3"
  },
  "language_info": {
   "codemirror_mode": {
    "name": "ipython",
    "version": 3
   },
   "file_extension": ".py",
   "mimetype": "text/x-python",
   "name": "python",
   "nbconvert_exporter": "python",
   "pygments_lexer": "ipython3",
   "version": "3.6.4"
  }
 },
 "nbformat": 4,
 "nbformat_minor": 2
}
