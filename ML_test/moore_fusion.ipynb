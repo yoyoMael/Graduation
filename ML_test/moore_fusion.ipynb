{
 "cells": [
  {
   "cell_type": "code",
   "execution_count": 3,
   "metadata": {},
   "outputs": [],
   "source": [
    "import numpy as np\n",
    "import pandas as pd\n",
    "import os\n",
    "from imblearn.over_sampling import RandomOverSampler\n",
    "from sklearn.model_selection import train_test_split\n",
    "from collections import Counter\n",
    "\n",
    "def generate_df(names):\n",
    "    df_list = []\n",
    "    prefix = 'entry'\n",
    "    for suffix in range(11):\n",
    "        filename = prefix + to_str(suffix)\n",
    "        file_dir = os.path.join(data_dir, filename)\n",
    "        if os.path.exists(file_dir):\n",
    "            print(file_dir)\n",
    "            df = pd.read_csv(file_dir, names=names)\n",
    "            df_list.append(df)\n",
    "    data = pd.concat(df_list)\n",
    "    return data\n",
    "\n",
    "def to_str(n):\n",
    "    if n < 10:\n",
    "        num = '0' + str(n) \n",
    "    else:\n",
    "        num = str(n)\n",
    "    return num\n",
    "\n",
    "data_dir = '/Users/Yoyo/Desktop/Graduation/ML_test/dataset/Moore'\n",
    "entry = 'entry12'\n",
    "full_index = np.array([0, 59, 94, 95, 84, 161, 44, 179, 82, 112, 58, 248])\n",
    "classes = ['WWW', 'MAIL', 'FTP-CONTROL', 'FTP-PASV', 'ATTACK', 'P2P', 'DATABASE', 'FTP-DATA', 'MULTIMEDIA', 'SERVICES',\n",
    "           'INTERACTIVE', 'GAMES']\n",
    "after_classes = ['WWW', 'MAIL', 'FTP-CONTROL', 'FTP-PASV', 'P2P', 'DATABASE', 'FTP-DATA', 'SERVICES',\n",
    "           'INTERACTIVE']\n",
    "after_file = os.path.join(data_dir, entry)\n",
    "names = [x for x in range(249)]"
   ]
  },
  {
   "cell_type": "code",
   "execution_count": 4,
   "metadata": {},
   "outputs": [
    {
     "name": "stdout",
     "output_type": "stream",
     "text": [
      "/Users/Yoyo/Desktop/Graduation/ML_test/dataset/Moore/entry01\n"
     ]
    },
    {
     "name": "stderr",
     "output_type": "stream",
     "text": [
      "/Library/Frameworks/Python.framework/Versions/3.6/lib/python3.6/site-packages/IPython/core/interactiveshell.py:2903: DtypeWarning: Columns (68,69,72,73,98,99,100,101,109,110,111,208,224,225,226,227,234,235,236,237,242,243,244,245,246,247) have mixed types. Specify dtype option on import or set low_memory=False.\n",
      "  if self.run_code(code, result):\n"
     ]
    },
    {
     "name": "stdout",
     "output_type": "stream",
     "text": [
      "/Users/Yoyo/Desktop/Graduation/ML_test/dataset/Moore/entry02\n"
     ]
    },
    {
     "name": "stderr",
     "output_type": "stream",
     "text": [
      "/Library/Frameworks/Python.framework/Versions/3.6/lib/python3.6/site-packages/IPython/core/interactiveshell.py:2903: DtypeWarning: Columns (68,69,72,73,98,99,100,101,109,110,111,224,225,226,227,234,235,236,237,242,243,244,245,246,247) have mixed types. Specify dtype option on import or set low_memory=False.\n",
      "  if self.run_code(code, result):\n"
     ]
    },
    {
     "name": "stdout",
     "output_type": "stream",
     "text": [
      "/Users/Yoyo/Desktop/Graduation/ML_test/dataset/Moore/entry03\n",
      "/Users/Yoyo/Desktop/Graduation/ML_test/dataset/Moore/entry04\n",
      "/Users/Yoyo/Desktop/Graduation/ML_test/dataset/Moore/entry05\n"
     ]
    },
    {
     "name": "stderr",
     "output_type": "stream",
     "text": [
      "/Library/Frameworks/Python.framework/Versions/3.6/lib/python3.6/site-packages/IPython/core/interactiveshell.py:2903: DtypeWarning: Columns (98,99,100,101,109,110,111,224,225,226,227,234,235,236,237,242,243,244,245,246,247) have mixed types. Specify dtype option on import or set low_memory=False.\n",
      "  if self.run_code(code, result):\n"
     ]
    },
    {
     "name": "stdout",
     "output_type": "stream",
     "text": [
      "/Users/Yoyo/Desktop/Graduation/ML_test/dataset/Moore/entry06\n"
     ]
    },
    {
     "name": "stderr",
     "output_type": "stream",
     "text": [
      "/Library/Frameworks/Python.framework/Versions/3.6/lib/python3.6/site-packages/IPython/core/interactiveshell.py:2903: DtypeWarning: Columns (68,69,98,100,109,110,111,224,225,226,227,234,235,236,237,242,243,244,245,246,247) have mixed types. Specify dtype option on import or set low_memory=False.\n",
      "  if self.run_code(code, result):\n"
     ]
    },
    {
     "name": "stdout",
     "output_type": "stream",
     "text": [
      "/Users/Yoyo/Desktop/Graduation/ML_test/dataset/Moore/entry07\n",
      "/Users/Yoyo/Desktop/Graduation/ML_test/dataset/Moore/entry08\n",
      "/Users/Yoyo/Desktop/Graduation/ML_test/dataset/Moore/entry09\n",
      "/Users/Yoyo/Desktop/Graduation/ML_test/dataset/Moore/entry10\n"
     ]
    },
    {
     "data": {
      "text/html": [
       "<div>\n",
       "<style scoped>\n",
       "    .dataframe tbody tr th:only-of-type {\n",
       "        vertical-align: middle;\n",
       "    }\n",
       "\n",
       "    .dataframe tbody tr th {\n",
       "        vertical-align: top;\n",
       "    }\n",
       "\n",
       "    .dataframe thead th {\n",
       "        text-align: right;\n",
       "    }\n",
       "</style>\n",
       "<table border=\"1\" class=\"dataframe\">\n",
       "  <thead>\n",
       "    <tr style=\"text-align: right;\">\n",
       "      <th></th>\n",
       "      <th>0</th>\n",
       "      <th>1</th>\n",
       "      <th>2</th>\n",
       "      <th>3</th>\n",
       "      <th>4</th>\n",
       "      <th>5</th>\n",
       "      <th>6</th>\n",
       "      <th>7</th>\n",
       "      <th>8</th>\n",
       "      <th>9</th>\n",
       "      <th>10</th>\n",
       "      <th>11</th>\n",
       "    </tr>\n",
       "  </thead>\n",
       "  <tbody>\n",
       "    <tr>\n",
       "      <th>0</th>\n",
       "      <td>80</td>\n",
       "      <td>1</td>\n",
       "      <td>319</td>\n",
       "      <td>140</td>\n",
       "      <td>318</td>\n",
       "      <td>40</td>\n",
       "      <td>1</td>\n",
       "      <td>3591.2</td>\n",
       "      <td>319</td>\n",
       "      <td>3</td>\n",
       "      <td>1</td>\n",
       "      <td>WWW</td>\n",
       "    </tr>\n",
       "    <tr>\n",
       "      <th>1</th>\n",
       "      <td>80</td>\n",
       "      <td>1</td>\n",
       "      <td>319</td>\n",
       "      <td>141</td>\n",
       "      <td>318</td>\n",
       "      <td>40</td>\n",
       "      <td>1</td>\n",
       "      <td>3645</td>\n",
       "      <td>319</td>\n",
       "      <td>3</td>\n",
       "      <td>1</td>\n",
       "      <td>WWW</td>\n",
       "    </tr>\n",
       "    <tr>\n",
       "      <th>2</th>\n",
       "      <td>80</td>\n",
       "      <td>1</td>\n",
       "      <td>322</td>\n",
       "      <td>141</td>\n",
       "      <td>321</td>\n",
       "      <td>40</td>\n",
       "      <td>1</td>\n",
       "      <td>3645</td>\n",
       "      <td>322</td>\n",
       "      <td>3</td>\n",
       "      <td>1</td>\n",
       "      <td>WWW</td>\n",
       "    </tr>\n",
       "    <tr>\n",
       "      <th>3</th>\n",
       "      <td>80</td>\n",
       "      <td>1</td>\n",
       "      <td>319</td>\n",
       "      <td>142</td>\n",
       "      <td>318</td>\n",
       "      <td>40</td>\n",
       "      <td>1</td>\n",
       "      <td>3699.2</td>\n",
       "      <td>319</td>\n",
       "      <td>3</td>\n",
       "      <td>1</td>\n",
       "      <td>WWW</td>\n",
       "    </tr>\n",
       "    <tr>\n",
       "      <th>4</th>\n",
       "      <td>80</td>\n",
       "      <td>1</td>\n",
       "      <td>325</td>\n",
       "      <td>141</td>\n",
       "      <td>324</td>\n",
       "      <td>40</td>\n",
       "      <td>1</td>\n",
       "      <td>3645</td>\n",
       "      <td>325</td>\n",
       "      <td>3</td>\n",
       "      <td>1</td>\n",
       "      <td>WWW</td>\n",
       "    </tr>\n",
       "  </tbody>\n",
       "</table>\n",
       "</div>"
      ],
      "text/plain": [
       "   0  1    2    3    4   5  6       7    8  9  10   11\n",
       "0  80  1  319  140  318  40  1  3591.2  319  3  1  WWW\n",
       "1  80  1  319  141  318  40  1    3645  319  3  1  WWW\n",
       "2  80  1  322  141  321  40  1    3645  322  3  1  WWW\n",
       "3  80  1  319  142  318  40  1  3699.2  319  3  1  WWW\n",
       "4  80  1  325  141  324  40  1    3645  325  3  1  WWW"
      ]
     },
     "execution_count": 4,
     "metadata": {},
     "output_type": "execute_result"
    }
   ],
   "source": [
    "df = generate_df(names)\n",
    "data = df[full_index].values\n",
    "\n",
    "df = pd.DataFrame(data)\n",
    "df.head()\n"
   ]
  },
  {
   "cell_type": "code",
   "execution_count": 5,
   "metadata": {},
   "outputs": [],
   "source": [
    "csv_path = os.path.join(data_dir, 'fusion_csv')"
   ]
  },
  {
   "cell_type": "code",
   "execution_count": 7,
   "metadata": {},
   "outputs": [],
   "source": [
    "df.to_csv(csv_path, index=False, header=False)"
   ]
  },
  {
   "cell_type": "code",
   "execution_count": null,
   "metadata": {},
   "outputs": [],
   "source": []
  }
 ],
 "metadata": {
  "kernelspec": {
   "display_name": "Python 3",
   "language": "python",
   "name": "python3"
  },
  "language_info": {
   "codemirror_mode": {
    "name": "ipython",
    "version": 3
   },
   "file_extension": ".py",
   "mimetype": "text/x-python",
   "name": "python",
   "nbconvert_exporter": "python",
   "pygments_lexer": "ipython3",
   "version": "3.6.4"
  }
 },
 "nbformat": 4,
 "nbformat_minor": 2
}
